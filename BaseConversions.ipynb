{
 "metadata": {
  "name": "",
  "signature": "sha256:366c0322a3bc6e2619e91bf3d6112b25e19853540937ff6a2bf129212722f3f7"
 },
 "nbformat": 3,
 "nbformat_minor": 0,
 "worksheets": [
  {
   "cells": [
    {
     "cell_type": "markdown",
     "metadata": {},
     "source": [
      "<h2>\n",
      "Number Base Conversions\n",
      "<h4>\n",
      "I wrote these number base conversions to help me learn the concepts, I thought I'd share this in case there's anybody else that learns by doing.\n",
      "<h4>\n",
      "The algorithm does X<sub>N</sub> &#8594; X<sub>K</sub> conversions for positive numbers up to base 36. To make it work for larger bases, more characters can be added to digits string. \n",
      "<h4>It uses the decimal system as a pivot, it converts from base N to K via X<sub>N</sub> &#8594; X<sub>10</sub> &#8594; X<sub>K</sub>\n"
     ]
    },
    {
     "cell_type": "code",
     "collapsed": false,
     "input": [
      "\n",
      "\n",
      "# This is the number system used, a base N system uses the first N digits. e.g. the base 2 digits are \"01\"\n",
      "DIGITS = '0123456789abcdefghijklmnopqrstuvwxyz'\n",
      "\n",
      "\n",
      "def dec_to_base(n, K, result=\"\"):\n",
      "    \"\"\"\n",
      "    Converts a positive base 10 int to the string \n",
      "    representation of the number in the new base.\n",
      "    \n",
      "    :params:\n",
      "        n: positive base 10 integer \n",
      "        K: the number base to convert to\n",
      "        result: used for recursion purposes only\n",
      "        \n",
      "    :returns:\n",
      "        string representation of n in base K\n",
      "    \"\"\"\n",
      "    n = int(n)\n",
      "    if n != 0:\n",
      "        next_digit = n % K\n",
      "        n = n // K\n",
      "        result = DIGITS[next_digit] + result\n",
      "        return dec_to_base(n, K, result)\n",
      "    if not result: \n",
      "        # Handles the zero case when\n",
      "        return \"0\"\n",
      "    return result\n",
      "\n",
      "\n",
      "def base_to_dec(num_str, K):\n",
      "    \"\"\"\n",
      "    Converts the string representation of a \n",
      "    base K number into its decimal representation\n",
      "    \n",
      "    :params:\n",
      "      num_str: string representation of a number \n",
      "      K: the number base of num_str\n",
      "        \n",
      "    :returns:\n",
      "      base 10 integer\n",
      "    \"\"\"\n",
      "    N = reversed(str(num_str))\n",
      "    decimal_rep = 0\n",
      "    for i, n in enumerate(N):\n",
      "        decimal_rep += int(DIGITS.index(n)) * K **i\n",
      "    return decimal_rep\n",
      "\n",
      "\n",
      "def base_N_to_K(num_str, N=2, K=10):\n",
      "    \"\"\"\n",
      "    Converts the string representation of a \n",
      "    base N number into base K representation\n",
      "    \n",
      "    :params:\n",
      "      num_str: string representation of the number \n",
      "      N: the number base of num_str\n",
      "      K: the base to convert to\n",
      "        \n",
      "    :returns:\n",
      "      string representation of num_str in base K\n",
      "    \"\"\"\n",
      "    dec_rep = base_to_dec(num_str, K=N)\n",
      "    return dec_to_base(dec_rep, K)\n",
      "\n"
     ],
     "language": "python",
     "metadata": {},
     "outputs": [],
     "prompt_number": 289
    },
    {
     "cell_type": "markdown",
     "metadata": {},
     "source": [
      "<h3>Does it work?"
     ]
    },
    {
     "cell_type": "code",
     "collapsed": false,
     "input": [
      "# These functions strip the base prefix from Python's builtin number conversions\n",
      "\n",
      "def binary(n):\n",
      "    # makes bin(2) return '10' instead of '0b10'\n",
      "    return bin(n)[2:]\n",
      "\n",
      "def hexidec(n):\n",
      "    # makes pythons hex(15) return 'f' instead of '0xf'\n",
      "    return hex(n)[2:]"
     ],
     "language": "python",
     "metadata": {},
     "outputs": [],
     "prompt_number": 290
    },
    {
     "cell_type": "code",
     "collapsed": false,
     "input": [
      "# Test the Hexidecimal case\n",
      "for i in range(16):\n",
      "    print dec_to_base(i, 16), hexidec(i)"
     ],
     "language": "python",
     "metadata": {},
     "outputs": [
      {
       "output_type": "stream",
       "stream": "stdout",
       "text": [
        "0 0\n",
        "1 1\n",
        "2 2\n",
        "3 3\n",
        "4 4\n",
        "5 5\n",
        "6 6\n",
        "7 7\n",
        "8 8\n",
        "9 9\n",
        "a a\n",
        "b b\n",
        "c c\n",
        "d d\n",
        "e e\n",
        "f f\n"
       ]
      }
     ],
     "prompt_number": 302
    },
    {
     "cell_type": "code",
     "collapsed": false,
     "input": [
      "# Test the octal case\n",
      "for i in range(9):\n",
      "    print dec_to_base(i, 8), oct(i)"
     ],
     "language": "python",
     "metadata": {},
     "outputs": [
      {
       "output_type": "stream",
       "stream": "stdout",
       "text": [
        "0 0\n",
        "1 01\n",
        "2 02\n",
        "3 03\n",
        "4 04\n",
        "5 05\n",
        "6 06\n",
        "7 07\n",
        "10 010\n"
       ]
      }
     ],
     "prompt_number": 303
    },
    {
     "cell_type": "code",
     "collapsed": false,
     "input": [
      "# Test the binary case\n",
      "for i in range(5):\n",
      "    print dec_to_base(i, 2), binary(i)\n"
     ],
     "language": "python",
     "metadata": {},
     "outputs": [
      {
       "output_type": "stream",
       "stream": "stdout",
       "text": [
        "0 0\n",
        "1 1\n",
        "10 10\n",
        "11 11\n",
        "100 100\n"
       ]
      }
     ],
     "prompt_number": 304
    },
    {
     "cell_type": "code",
     "collapsed": false,
     "input": [
      "# Test base K to decimal conversion\n",
      "\n",
      "# Choose an arbitrary integer, they should return this exact int\n",
      "decimal_rep = 3457634634534563\n",
      "\n",
      "print base_to_dec(binary(decimal_rep), 2)\n",
      "print base_to_dec(hexidec(decimal_rep), 16)\n",
      "print base_to_dec(oct(decimal_rep), 8)"
     ],
     "language": "python",
     "metadata": {},
     "outputs": [
      {
       "output_type": "stream",
       "stream": "stdout",
       "text": [
        "3457634634534563\n",
        "3457634634534563\n",
        "3457634634534563\n"
       ]
      }
     ],
     "prompt_number": 314
    },
    {
     "cell_type": "code",
     "collapsed": false,
     "input": [
      "# Test base N to K conversion\n",
      "print base_N_to_K(binary(decimal_rep), 2, 16) == hexidec(decimal_rep)\n",
      "print base_N_to_K(hexidec(decimal_rep), 16, 2) == binary(decimal_rep)"
     ],
     "language": "python",
     "metadata": {},
     "outputs": [
      {
       "output_type": "stream",
       "stream": "stdout",
       "text": [
        "True\n",
        "True\n"
       ]
      }
     ],
     "prompt_number": 320
    },
    {
     "cell_type": "code",
     "collapsed": false,
     "input": [
      "# These should be 10 in each case\n",
      "print base_N_to_K(36, 10, 36)\n",
      "print base_N_to_K(6, 10, 6)\n",
      "print base_N_to_K(20, 10, 20)"
     ],
     "language": "python",
     "metadata": {},
     "outputs": [
      {
       "output_type": "stream",
       "stream": "stdout",
       "text": [
        "10\n",
        "10\n",
        "10\n"
       ]
      }
     ],
     "prompt_number": 325
    },
    {
     "cell_type": "code",
     "collapsed": false,
     "input": [
      "# The base 36 version of decimal_rep\n",
      "print base_N_to_K(decimal_rep, 10, 36)"
     ],
     "language": "python",
     "metadata": {},
     "outputs": [
      {
       "output_type": "stream",
       "stream": "stdout",
       "text": [
        "y1mnf7x5sz\n"
       ]
      }
     ],
     "prompt_number": 328
    },
    {
     "cell_type": "code",
     "collapsed": false,
     "input": [],
     "language": "python",
     "metadata": {},
     "outputs": []
    }
   ],
   "metadata": {}
  }
 ]
}