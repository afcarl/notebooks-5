{
 "metadata": {
  "name": "",
  "signature": "sha256:b40b5d644f03d7a465ad5039482acdc3010f53773b2c7a074f058a46abc30c31"
 },
 "nbformat": 3,
 "nbformat_minor": 0,
 "worksheets": [
  {
   "cells": [
    {
     "cell_type": "markdown",
     "metadata": {},
     "source": [
      "<h1>Sync a Quantopian Algo with your Mac via fetch_csv()</h1>\n",
      "<p>\n",
      "The goal of this is to demo a method of updating the settings/universe of a quantopian algorithm from your mac, without having to stop it. You need to have a hosted directory on your computer, like dropbox or google drive.\n",
      "<p>\n",
      "For the purposes of this demo, it is assumed that your algorithm rebalances according to weightings kept in a file called portfolio.csv, but the idea can be extended to update any parameters in your algorithm.\n",
      "<p>\n",
      "In order to maintain a history of portfolio weightings, at the end of each trading day the contents of portfolio.csv get appended to a file in your dropbox directory (fetcher_universe.csv). This file will be fetched by your algorithm to be used for backtesting or live trading the following morning.\n",
      "<h3>Generating historical weightings</h3>\n",
      "<p>\n",
      "First you will need to generate some historical portfolio weightings to be used in backtests. This assumes an evenly weighted portfolio of a few blue chips to keep it simple. The csv will have (Date,symbol,weight) columns.\n"
     ]
    },
    {
     "cell_type": "code",
     "collapsed": false,
     "input": [
      "import os\n",
      "import sys\n",
      "import datetime\n",
      "import pandas as pd\n",
      "from zipline.finance.trading import TradingEnvironment\n",
      "\n",
      "\n",
      "ENV = TradingEnvironment.instance() # Used for date functionality\n",
      "FETCHER_FILE = 'path to dropbox directory'\n",
      "\n",
      "tickers = ['AAPL', 'GE', 'XOM' ]\n",
      "wt = 1.0 / len(tickers)\n",
      "\n",
      "f = open(FETCHER_FILE, 'w')\n",
      "\n",
      "# Write the column names\n",
      "f.write(\"Date,symbol,weight\\n\")\n",
      "\n",
      "for dt in ENV.trading_days[0:3]:\n",
      "    if dt < pd.Timestamp.utcnow():\n",
      "        for ticker in tickers:\n",
      "            row = ','.join([dt.isoformat(), ticker, str(wt)])\n",
      "            f.write(row +  '\\n')\n",
      "\n",
      "f.close()"
     ],
     "language": "python",
     "metadata": {},
     "outputs": [],
     "prompt_number": 44
    },
    {
     "cell_type": "markdown",
     "metadata": {},
     "source": [
      "<h3>Make a portfolio file</h3>\n",
      "<p>\n",
      "This assumes you created a portfolio.csv with (symbol,weight) columns where you keep your current portfolio weightings.\n",
      "<p>\n",
      "This next function appends the contents of your current portfolio file to the fetcher file. It will do nothing if it is not a trading day."
     ]
    },
    {
     "cell_type": "code",
     "collapsed": false,
     "input": [
      "def append_new_rows():\n",
      "    \"\"\"\n",
      "    Appends the contents of PORTFOLIO_FILE\n",
      "    to FETCHER_FILE with todays timestamp\n",
      "    if today is a trading day.\n",
      "    \"\"\"\n",
      "    today = ENV.normalize_date(datetime.datetime.now())\n",
      "    if today not in ENV.trading_days:\n",
      "       return\n",
      "    today = today.isoformat()\n",
      "    data = pd.read_csv(PORTFOLIO_FILE)\n",
      "    with open(FETCHER_FILE, 'a') as f:\n",
      "        for i in data.index:\n",
      "            row = \",\".join([today, data['symbol'][i], str(data['weight'][i])])\n",
      "            f.write(row + '\\n')\n",
      "        f.close()\n"
     ],
     "language": "python",
     "metadata": {},
     "outputs": [],
     "prompt_number": 42
    },
    {
     "cell_type": "markdown",
     "metadata": {},
     "source": [
      "<h3>Automating the process</h3>\n",
      "<p>\n",
      "Apple supports <a href=\"http://launchd.info/\">launchd</a> for automating background jobs on a mac. You will have create a new \"plist\" file your in the \"~/Library/LaunchAgents\" directory. Apple uses backwards url style filenames, eg. com.dedwards.update_portfolio.plist, not sure why, but I'll go with it. \n",
      "<p>\n",
      "The plist is an xml style file that contains any relevant information like the schedule and program arguments. Mine looks like this. It will call the script located at /Users/dedwards/dropbox/data/update_portfolio.py at 6:45pm every day.\n"
     ]
    },
    {
     "cell_type": "raw",
     "metadata": {},
     "source": [
      "<?xml version=\"1.0\" encoding=\"UTF-8\"?>\n",
      "<!DOCTYPE plist PUBLIC \"-//Apple//DTD PLIST 1.0//EN\" \"http://www.apple.com/DTDs/PropertyList-1.0.dtd\">\n",
      "<plist version=\"1.0\">\n",
      "<dict>\n",
      "    <key>Label</key>\n",
      "    <string>com.dedwards.update_portfolio</string>\n",
      "    <key>ProgramArguments</key>\n",
      "    <array>\n",
      "        <string>/usr/bin/python</string>\n",
      "        <string>/Users/dedwards/dropbox/data/update_portfolio.py</string>\n",
      "    </array>\n",
      "    <key>StartCalendarInterval</key>\n",
      "    <dict>\n",
      "        <key>Hour</key><integer>18</integer>\n",
      "        <key>Minute</key><integer>45</integer>\n",
      "    </dict>\n",
      "</dict>\n",
      "</plist>"
     ]
    },
    {
     "cell_type": "markdown",
     "metadata": {},
     "source": [
      "<p>\n",
      "Apple supports <a href=\"https://developer.apple.com/library/mac/documentation/Darwin/Reference/ManPages/man1/launchctl.1.html\">launchctl</a> for managing your LaunchAgents, there are some third party apps for managing this stuff, but the command line tools are usually enough. The most common commands are load, unload, start, stop, and list. See the link above for reference.\n",
      "<p>\n",
      "If everything is working, the following command should start your daily portfolio updates. "
     ]
    },
    {
     "cell_type": "raw",
     "metadata": {},
     "source": [
      ">>> launchctl load ~/Library/LaunchAgents/com.dedwards.update_portfolio.plist"
     ]
    },
    {
     "cell_type": "markdown",
     "metadata": {},
     "source": [
      "<p>\n",
      "This is the daily update script in its entirety, it assumes that it is located in the same directory as the fetcher and portfolio files. It will have to be a cloud hosted directory so Quantopian algos can access the data. If your mac is asleep when the update is meant to occur, it will run whenever its woken up next."
     ]
    },
    {
     "cell_type": "code",
     "collapsed": false,
     "input": [
      "import os\n",
      "import sys\n",
      "import datetime\n",
      "import pandas as pd\n",
      "from zipline.finance.trading import TradingEnvironment\n",
      "\n",
      "\n",
      "ENV = TradingEnvironment.instance() # Used for date functionality\n",
      "\n",
      "# Assumes all files are located in the same directory\n",
      "ROOT = os.path.dirname(os.path.abspath(__file__))\n",
      "FETCHER_FILE = os.sep.join([ROOT, \"fetcher_universe.csv\"])\n",
      "PORTFOLIO_FILE = os.sep.join([ROOT, \"portfolio.csv\"])\n",
      "\n",
      "\n",
      "def append_new_rows():\n",
      "    today = ENV.normalize_date(datetime.datetime.now())\n",
      "    #if today not in ENV.trading_days:\n",
      "    #    return\n",
      "    today = today.isoformat()\n",
      "    data = pd.read_csv(PORTFOLIO_FILE)\n",
      "    with open(FETCHER_FILE, 'a') as f:\n",
      "        for i in data.index:\n",
      "            row = \",\".join([today, data['symbol'][i], str(data['weight'][i])])\n",
      "            # print row\n",
      "            f.write(row + '\\n')\n",
      "        f.close()\n",
      "\n",
      "if __name__ == '__main__':\n",
      "    append_new_rows()\n",
      "    sys.exit()\n"
     ],
     "language": "python",
     "metadata": {},
     "outputs": []
    },
    {
     "cell_type": "markdown",
     "metadata": {},
     "source": [
      "TODO: Show the algo on quantopian fetching fetcher_universe.csv"
     ]
    },
    {
     "cell_type": "code",
     "collapsed": false,
     "input": [],
     "language": "python",
     "metadata": {},
     "outputs": [],
     "prompt_number": 45
    }
   ],
   "metadata": {}
  }
 ]
}