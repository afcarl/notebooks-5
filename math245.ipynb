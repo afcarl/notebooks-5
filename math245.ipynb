{
 "metadata": {
  "name": "",
  "signature": "sha256:ee294f2819820792e34b98a416b995fbf19231b71aa2306d7f2281cc50b5ba86"
 },
 "nbformat": 3,
 "nbformat_minor": 0,
 "worksheets": [
  {
   "cells": [
    {
     "cell_type": "code",
     "collapsed": false,
     "input": [
      "%matplotlib inline\n",
      "from matplotlib import pyplot as plt\n",
      "import math\n",
      "import random\n",
      "import itertools\n",
      "import operator\n",
      "import pandas as pd\n",
      "import numpy as np\n",
      "import sympy\n",
      "from sympy import *\n",
      "init_printing(use_unicode=True)"
     ],
     "language": "python",
     "metadata": {},
     "outputs": [],
     "prompt_number": 3
    },
    {
     "cell_type": "markdown",
     "metadata": {},
     "source": [
      "<H3>Logical Expressions and Truth Tables"
     ]
    },
    {
     "cell_type": "code",
     "collapsed": false,
     "input": [
      "p, q, r, s = symbols('p q r s')\n",
      "\n",
      "# p and (q xor r) implies not s\n",
      "expression = Implies(And(p, Xor(q , r)), Not(s))\n",
      "\n",
      "# In shorthand notation\n",
      "expression2 = (p & (q ^ r)) >> ~s\n",
      "\n",
      "print expression == expression2"
     ],
     "language": "python",
     "metadata": {},
     "outputs": [
      {
       "output_type": "stream",
       "stream": "stdout",
       "text": [
        "True\n"
       ]
      }
     ],
     "prompt_number": 22
    },
    {
     "cell_type": "code",
     "collapsed": false,
     "input": [
      "# Creating truth tables for complex logical expressions\n",
      "\n",
      "def truth_table(eq):\n",
      "    \"\"\"\n",
      "    Returns the truth table of eq\n",
      "    as a boolean matrix.\n",
      "    \"\"\"\n",
      "    free_vars = list(ordered(eq.free_symbols))\n",
      "    rows = [free_vars + [str(eq)]]\n",
      "    for i in cartes(*[[true, false]]*len(free_vars)):\n",
      "        rows.append(list(i))\n",
      "        rows[-1].append(eq.subs(zip(free_vars, i)))\n",
      "        rows[-1] = [\"1\" if i else \"0\" for i in rows[-1]]\n",
      "    return TableForm(rows, wipe_zeros=False).as_matrix()\n",
      "\n",
      "\n",
      "truth_table(expression)"
     ],
     "language": "python",
     "metadata": {},
     "outputs": [
      {
       "latex": [
        "$$\\left[\\begin{matrix}p & q & r & s & p \\wedge \\left(\\left(q \\wedge \\neg r\\right) \\vee \\left(r \\wedge \\neg q\\right)\\right) \\Rightarrow \\neg s\\\\1 & 1 & 1 & 1 & 1\\\\1 & 1 & 1 & 0 & 1\\\\1 & 1 & 0 & 1 & 0\\\\1 & 1 & 0 & 0 & 1\\\\1 & 0 & 1 & 1 & 0\\\\1 & 0 & 1 & 0 & 1\\\\1 & 0 & 0 & 1 & 1\\\\1 & 0 & 0 & 0 & 1\\\\0 & 1 & 1 & 1 & 1\\\\0 & 1 & 1 & 0 & 1\\\\0 & 1 & 0 & 1 & 1\\\\0 & 1 & 0 & 0 & 1\\\\0 & 0 & 1 & 1 & 1\\\\0 & 0 & 1 & 0 & 1\\\\0 & 0 & 0 & 1 & 1\\\\0 & 0 & 0 & 0 & 1\\end{matrix}\\right]$$"
       ],
       "metadata": {},
       "output_type": "pyout",
       "prompt_number": 35,
       "text": [
        "\u23a1p  q  r  s  (p \u2227 ((q \u2227 \u00acr) \u2228 (r \u2227 \u00acq))) \u2192 \u00acs\u23a4\n",
        "\u23a2                                            \u23a5\n",
        "\u23a21  1  1  1                 1                \u23a5\n",
        "\u23a2                                            \u23a5\n",
        "\u23a21  1  1  0                 1                \u23a5\n",
        "\u23a2                                            \u23a5\n",
        "\u23a21  1  0  1                 0                \u23a5\n",
        "\u23a2                                            \u23a5\n",
        "\u23a21  1  0  0                 1                \u23a5\n",
        "\u23a2                                            \u23a5\n",
        "\u23a21  0  1  1                 0                \u23a5\n",
        "\u23a2                                            \u23a5\n",
        "\u23a21  0  1  0                 1                \u23a5\n",
        "\u23a2                                            \u23a5\n",
        "\u23a21  0  0  1                 1                \u23a5\n",
        "\u23a2                                            \u23a5\n",
        "\u23a21  0  0  0                 1                \u23a5\n",
        "\u23a2                                            \u23a5\n",
        "\u23a20  1  1  1                 1                \u23a5\n",
        "\u23a2                                            \u23a5\n",
        "\u23a20  1  1  0                 1                \u23a5\n",
        "\u23a2                                            \u23a5\n",
        "\u23a20  1  0  1                 1                \u23a5\n",
        "\u23a2                                            \u23a5\n",
        "\u23a20  1  0  0                 1                \u23a5\n",
        "\u23a2                                            \u23a5\n",
        "\u23a20  0  1  1                 1                \u23a5\n",
        "\u23a2                                            \u23a5\n",
        "\u23a20  0  1  0                 1                \u23a5\n",
        "\u23a2                                            \u23a5\n",
        "\u23a20  0  0  1                 1                \u23a5\n",
        "\u23a2                                            \u23a5\n",
        "\u23a30  0  0  0                 1                \u23a6"
       ]
      }
     ],
     "prompt_number": 35
    },
    {
     "cell_type": "markdown",
     "metadata": {},
     "source": [
      "<h4>Conjuctive/Disjunctive normal forms"
     ]
    },
    {
     "cell_type": "code",
     "collapsed": false,
     "input": [
      "to_cnf(expression)"
     ],
     "language": "python",
     "metadata": {},
     "outputs": [
      {
       "latex": [
        "$$\\left(q \\vee \\neg p \\vee \\neg r \\vee \\neg s\\right) \\wedge \\left(r \\vee \\neg p \\vee \\neg q \\vee \\neg s\\right)$$"
       ],
       "metadata": {},
       "output_type": "pyout",
       "png": "[encoded data removed]",
       "prompt_number": 29,
       "text": [
        "(q \u2228 \u00acp \u2228 \u00acr \u2228 \u00acs) \u2227 (r \u2228 \u00acp \u2228 \u00acq \u2228 \u00acs)"
       ]
      }
     ],
     "prompt_number": 29
    },
    {
     "cell_type": "code",
     "collapsed": false,
     "input": [
      "to_dnf(expression)"
     ],
     "language": "python",
     "metadata": {},
     "outputs": [
      {
       "latex": [
        "$$\\left(q \\wedge r\\right) \\vee \\left(q \\wedge \\neg q\\right) \\vee \\left(r \\wedge \\neg r\\right) \\vee \\left(\\neg q \\wedge \\neg r\\right) \\vee \\neg p \\vee \\neg s$$"
       ],
       "metadata": {},
       "output_type": "pyout",
       "png": "[encoded data removed]",
       "prompt_number": 32,
       "text": [
        "(q \u2227 r) \u2228 (q \u2227 \u00acq) \u2228 (r \u2227 \u00acr) \u2228 (\u00acq \u2227 \u00acr) \u2228 \u00acp \u2228 \u00acs"
       ]
      }
     ],
     "prompt_number": 32
    },
    {
     "cell_type": "code",
     "collapsed": false,
     "input": [
      "# expression can be reduced\n",
      "to_dnf(expression, simplify=True)"
     ],
     "language": "python",
     "metadata": {},
     "outputs": [
      {
       "latex": [
        "$$\\left(q \\wedge r\\right) \\vee \\left(\\neg q \\wedge \\neg r\\right) \\vee \\neg p \\vee \\neg s$$"
       ],
       "metadata": {},
       "output_type": "pyout",
       "png": "[encoded data removed]",
       "prompt_number": 34,
       "text": [
        "(q \u2227 r) \u2228 (\u00acq \u2227 \u00acr) \u2228 \u00acp \u2228 \u00acs"
       ]
      }
     ],
     "prompt_number": 34
    },
    {
     "cell_type": "markdown",
     "metadata": {},
     "source": [
      "<H3>Combinatorics"
     ]
    },
    {
     "cell_type": "code",
     "collapsed": false,
     "input": [
      "# Combinatoric functions\n",
      "\n",
      "def factorial(n):\n",
      "    return reduce(operator.mul, xrange(2, n+1), 1)\n",
      "\n",
      "def factorial2(n):\n",
      "    ''' Less cryptic (but slower) factorial'''\n",
      "    product = 1\n",
      "    n = int(n)\n",
      "    if n < 0:\n",
      "        return \"factorial(n), n must be a positive integer\"\n",
      "    for i in range(1, n + 1):\n",
      "        product *= i\n",
      "    return product\n",
      "\n",
      "\n",
      "def permutations(n, r):\n",
      "    \"\"\"\n",
      "    P(n, r) = n(n \u2212 1)(n \u2212 2)...(n \u2212 r + 1)\n",
      "    \"\"\"\n",
      "    product = 1\n",
      "    for i in xrange(r):\n",
      "        product *= (n - i)\n",
      "    return product\n",
      "\n",
      "\n",
      "def nCk(n,k):\n",
      "    \"\"\"\n",
      "    n Choose k\n",
      "    Returns the number of unique k length combos of n elements\n",
      "    \"\"\"\n",
      "    product = 1\n",
      "    k = int(k)\n",
      "    for i in xrange(1, k + 1):\n",
      "        product *= (n - i + 1.0) / i \n",
      "    return product\n",
      "\n",
      "\n",
      "def stirling2(n, k):\n",
      "    \"\"\" Stirling numbers of the second kind \"\"\"\n",
      "    if n == 0 and k == 0:\n",
      "        return 1\n",
      "    if (n > 0 and k == 0) or n < k:\n",
      "        return 0\n",
      "    return k * stirling2(n - 1, k) + stirling2(n -1 , k - 1)\n",
      "\n",
      "\n",
      "def int_partitions(n, k):\n",
      "    '''\n",
      "    The number of different representations (integer partitions)\n",
      "    of the integer n as the sum of k positive integer summands \n",
      "    in nondecreasing order.\n",
      "    '''\n",
      "    if k == n:\n",
      "        return 1\n",
      "    if k > n:\n",
      "        return 0\n",
      "    if n > 0:\n",
      "        if k == 0:\n",
      "            return 0\n",
      "    if n > 1:\n",
      "        if k == n - 1:\n",
      "            return 1\n",
      "        if k == 1:\n",
      "            return 1\n",
      "        if k == 2:\n",
      "            return n // 2\n",
      "    return int_partitions(n-1, k-1) + int_partitions(n - k, k)\n",
      "\n",
      "\n",
      "def npartitions(n):\n",
      "    ''' Total number of integer partitions of n'''\n",
      "    return sum(int_partitions(n, k) for k in xrange(0, n + 1))\n",
      "\n",
      "\n",
      "def multiset_combos(iterable):\n",
      "    '''\n",
      "    The number of different/distinguishable permutations\n",
      "    of the elements of a multiset. The multiset argument\n",
      "    can be any iterable data type with a .count() method.\n",
      "    '''\n",
      "    product = 1\n",
      "    n = len(iterable)\n",
      "    unique_elements = set(iterable)\n",
      "    for element in unique_elements:\n",
      "        count = iterable.count(element)\n",
      "        product *= nCk(n, count)\n",
      "        n -= count\n",
      "    return product"
     ],
     "language": "python",
     "metadata": {},
     "outputs": [],
     "prompt_number": 53
    },
    {
     "cell_type": "markdown",
     "metadata": {},
     "source": [
      "<h3>Twelvefold Way"
     ]
    },
    {
     "cell_type": "markdown",
     "metadata": {},
     "source": [
      "1.\n",
      "How many different ways are there to select a pair of students,\n",
      "one male and one female, from a class consisting of\n",
      "three male students and eight female students?"
     ]
    },
    {
     "cell_type": "code",
     "collapsed": false,
     "input": [
      "\"\"\"\n",
      "There are 3 ways to choose a male and 8 ways to choose a female\n",
      "by the multiplication rule \n",
      "\"\"\"\n",
      "print 8*3"
     ],
     "language": "python",
     "metadata": {},
     "outputs": [
      {
       "output_type": "stream",
       "stream": "stdout",
       "text": [
        "24\n"
       ]
      }
     ],
     "prompt_number": 111
    },
    {
     "cell_type": "markdown",
     "metadata": {},
     "source": [
      "<p>2. A bag contains three \u201cA\u201d Scrabble tiles and four \u201cB\u201d Scrabble tiles. \n",
      "What is the probability that a random simultaneous draw of two tiles \n",
      "from the bag would yield one \u201cA\u201d tile and one \u201cB\u201d tile ?\n",
      "<p>\n",
      "There are 3 way to choose A, 4 ways to choose B, and $7 \\choose 2$ ways to choose any 2 elements. \n",
      "<br>\n",
      "$P(A \\& B) = \\frac{(3)(4)}{7 \\choose 2}$"
     ]
    },
    {
     "cell_type": "code",
     "collapsed": false,
     "input": [
      "A = 3.\n",
      "B = 4.\n",
      "print A * B / nCk(A + B, 2)"
     ],
     "language": "python",
     "metadata": {},
     "outputs": [
      {
       "output_type": "stream",
       "stream": "stdout",
       "text": [
        "0.571428571429\n"
       ]
      }
     ],
     "prompt_number": 114
    },
    {
     "cell_type": "markdown",
     "metadata": {},
     "source": [
      "<p>3. How many different ways are there to pick five pieces of fruit from a collection \n",
      "   of seven identical oranges and 8 identical apples?"
     ]
    },
    {
     "cell_type": "code",
     "collapsed": false,
     "input": [
      "\"\"\"\n",
      "indistinguishable balls (fruit), \n",
      "distinguishable bins (apples, oranges)\n",
      "arbitrary function\n",
      "\n",
      "This amounts to the possible arrangements of 5 balls in 2 bins\n",
      "\"\"\"\n",
      "\n",
      "bins = 2\n",
      "balls = 5\n",
      "print nCk(bins + balls - 1, balls)"
     ],
     "language": "python",
     "metadata": {},
     "outputs": [
      {
       "output_type": "stream",
       "stream": "stdout",
       "text": [
        "6\n"
       ]
      }
     ],
     "prompt_number": 118
    },
    {
     "cell_type": "markdown",
     "metadata": {},
     "source": [
      "<p>4. How many different eleven-letter words (including \u201cnonsense\u201d words) \n",
      "   can be formed by rearranging the letters of the word MISSISSIPPI?"
     ]
    },
    {
     "cell_type": "code",
     "collapsed": false,
     "input": [
      "# This is the number of combos of a (1, 2, 4, 4) multiset\n",
      "multiset_combos(\"MISSISSIPPI\")"
     ],
     "language": "python",
     "metadata": {},
     "outputs": [
      {
       "latex": [
        "$$34650.0$$"
       ],
       "metadata": {},
       "output_type": "pyout",
       "png": "[encoded data removed]",
       "prompt_number": 253,
       "text": [
        "34650.0"
       ]
      }
     ],
     "prompt_number": 253
    },
    {
     "cell_type": "markdown",
     "metadata": {},
     "source": [
      "<p>5. In how many distinguishable ways can the books on a bookshelf be arranged, if the books are \n",
      "    four identical copies of an algebra textbook, \n",
      "    three identical copies of a geometry textbook, and \n",
      "    six different combinatorics textbooks?"
     ]
    },
    {
     "cell_type": "code",
     "collapsed": false,
     "input": [
      "\"\"\"\n",
      "Another multiset problem, this is the number of unique \n",
      "permutations of a (4, 3, 1, 1, 1, 1, 1, 1) multiset.\n",
      "\"\"\"\n",
      "books = 4*[\"Algebra\"] \n",
      "books += 3*[\"Geometry\"]\n",
      "books.extend([\"Combinatorics \" + str(n) for n in range(6)])\n",
      "\n",
      "print multiset_combos(books)"
     ],
     "language": "python",
     "metadata": {},
     "outputs": [
      {
       "output_type": "stream",
       "stream": "stdout",
       "text": [
        "43243200.0\n"
       ]
      }
     ],
     "prompt_number": 257
    },
    {
     "cell_type": "markdown",
     "metadata": {},
     "source": [
      "<p>6. How many different sequences of the binary digits 0 and 1 consist of a \n",
      "   total of four 0\u2019s and eight 1\u2019s, with no adjacent 1\u2019s?"
     ]
    },
    {
     "cell_type": "code",
     "collapsed": false,
     "input": [
      "''' Can't be done '''\n",
      "0"
     ],
     "language": "python",
     "metadata": {},
     "outputs": [
      {
       "latex": [
        "$$0$$"
       ],
       "metadata": {},
       "output_type": "pyout",
       "png": "[encoded data removed]",
       "prompt_number": 258,
       "text": [
        "0"
       ]
      }
     ],
     "prompt_number": 258
    },
    {
     "cell_type": "markdown",
     "metadata": {},
     "source": [
      "<p>7. How many 10-element subsets of the 26-letter English alphabet \n",
      "   contain at least one pair of consecutive letters?"
     ]
    },
    {
     "cell_type": "code",
     "collapsed": false,
     "input": [
      "\"\"\"\n",
      "This is easiest solved by subtracting the the number\n",
      "of 10 element subsets that don't contain any pairs of \n",
      "consecutive letters from the total number of 10 element \n",
      "subsets.\n",
      "\"\"\"\n",
      "nCk(26, 10) - nCk(17, 7)"
     ],
     "language": "python",
     "metadata": {},
     "outputs": [
      {
       "latex": [
        "$$5292287.0$$"
       ],
       "metadata": {},
       "output_type": "pyout",
       "png": "[encoded data removed]",
       "prompt_number": 259,
       "text": [
        "5292287.0"
       ]
      }
     ],
     "prompt_number": 259
    },
    {
     "cell_type": "markdown",
     "metadata": {},
     "source": [
      "<p>8. How many nonnegative integer solutions are there to: $x1 + x2 + x3 + x4 = 7$ ?\n"
     ]
    },
    {
     "cell_type": "code",
     "collapsed": false,
     "input": [
      "''' This is the number of ways to put 7 balls (1's) into 4 bins (x's) '''\n",
      "nCk(7 + 4 -1, 7)"
     ],
     "language": "python",
     "metadata": {},
     "outputs": [
      {
       "latex": [
        "$$120.0$$"
       ],
       "metadata": {},
       "output_type": "pyout",
       "png": "[encoded data removed]",
       "prompt_number": 264,
       "text": [
        "120.0"
       ]
      }
     ],
     "prompt_number": 264
    },
    {
     "cell_type": "markdown",
     "metadata": {},
     "source": [
      "<p>12. What is the probability that the total obtained upon rolling 5 identical dice is exactly 26?\n",
      "<p>\n",
      "For fun I'll simulate this with random number generators"
     ]
    },
    {
     "cell_type": "code",
     "collapsed": false,
     "input": [
      "def dice_rolls(rolls, dice_count, sides=6):\n",
      "    die = range(1, sides+1)\n",
      "    low = dice_count\n",
      "    high = dice_count *sides\n",
      "    roll = lambda: (random.choice(die) \n",
      "                    for _ in xrange(dice_count))\n",
      "    results = dict.fromkeys(range(low, high + 1), 0)\n",
      "    for _ in xrange(rolls):\n",
      "        results[sum(roll())] += 1\n",
      "    results = pd.Series(results)\n",
      "    return results / results.abs().sum()\n",
      "        \n",
      "\n",
      "probabilities = {}\n",
      "for roll_count in range(100, 50000, 100):\n",
      "    result = dice_rolls(roll_count, 5)\n",
      "    probabilities[roll_count] = result\n",
      "\n",
      "results = pd.DataFrame(probabilities)\n",
      "fig = results.plot(legend=False)\n",
      "fig.set_xlabel(\"Result\")\n",
      "fig.set_ylabel(\"Probability\")"
     ],
     "language": "python",
     "metadata": {},
     "outputs": [
      {
       "metadata": {},
       "output_type": "pyout",
       "prompt_number": 107,
       "text": [
        "<matplotlib.text.Text at 0x118d2f2d0>"
       ]
      },
      {
       "metadata": {},
       "output_type": "display_data",
       "png": "[encoded data removed]",
       "text": [
        "<matplotlib.figure.Figure at 0x1189df390>"
       ]
      }
     ],
     "prompt_number": 107
    },
    {
     "cell_type": "code",
     "collapsed": false,
     "input": [
      "'''The Results for 26 should asymptotically approach 0.9% '''\n",
      "results.T[26].plot()"
     ],
     "language": "python",
     "metadata": {},
     "outputs": [
      {
       "metadata": {},
       "output_type": "pyout",
       "prompt_number": 108,
       "text": [
        "<matplotlib.axes.AxesSubplot at 0x117345b50>"
       ]
      },
      {
       "metadata": {},
       "output_type": "display_data",
       "png": "[encoded data removed]",
       "text": [
        "<matplotlib.figure.Figure at 0x1189e6490>"
       ]
      }
     ],
     "prompt_number": 108
    },
    {
     "cell_type": "code",
     "collapsed": false,
     "input": [
      "# 200K dice rolls\n",
      "dice_rolls(200000, 5)[26]"
     ],
     "language": "python",
     "metadata": {},
     "outputs": [
      {
       "latex": [
        "$$0.00909$$"
       ],
       "metadata": {},
       "output_type": "pyout",
       "png": "[encoded data removed]",
       "prompt_number": 104,
       "text": [
        "0.00909"
       ]
      }
     ],
     "prompt_number": 104
    }
   ],
   "metadata": {}
  }
 ]
}